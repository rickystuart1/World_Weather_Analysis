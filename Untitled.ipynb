{
 "cells": [
  {
   "cell_type": "code",
   "execution_count": 1,
   "id": "d29ea518",
   "metadata": {},
   "outputs": [],
   "source": [
    "import random"
   ]
  },
  {
   "cell_type": "code",
   "execution_count": 4,
   "id": "b77a618e",
   "metadata": {},
   "outputs": [
    {
     "data": {
      "text/plain": [
       "0.9995439727838273"
      ]
     },
     "execution_count": 4,
     "metadata": {},
     "output_type": "execute_result"
    }
   ],
   "source": [
    "random.random()"
   ]
  },
  {
   "cell_type": "code",
   "execution_count": 15,
   "id": "fa5de5bf",
   "metadata": {},
   "outputs": [
    {
     "data": {
      "text/plain": [
       "-48"
      ]
     },
     "execution_count": 15,
     "metadata": {},
     "output_type": "execute_result"
    }
   ],
   "source": [
    "random.randint(-90,90)"
   ]
  },
  {
   "cell_type": "code",
   "execution_count": 17,
   "id": "60402660",
   "metadata": {},
   "outputs": [
    {
     "data": {
      "text/plain": [
       "58.12878807471708"
      ]
     },
     "execution_count": 17,
     "metadata": {},
     "output_type": "execute_result"
    }
   ],
   "source": [
    "random_number = random.randint(-90,89) + random.random()\n",
    "random_number"
   ]
  },
  {
   "cell_type": "code",
   "execution_count": 18,
   "id": "ad20015d",
   "metadata": {},
   "outputs": [],
   "source": [
    "x = 1\n",
    "latitudes = []\n",
    "while x < 11:\n",
    "    random_lat = random.randint(-90, 89) + random.random()\n",
    "    latitudes.append(random_lat)\n",
    "    x += 1"
   ]
  },
  {
   "cell_type": "code",
   "execution_count": 19,
   "id": "07d98f74",
   "metadata": {},
   "outputs": [
    {
     "data": {
      "text/plain": [
       "[-10.384753296259102,\n",
       " 9.337919525713032,\n",
       " 48.130464494495875,\n",
       " 81.0167649293111,\n",
       " -9.292337744689446,\n",
       " 11.069999664044948,\n",
       " 51.05404018931967,\n",
       " -5.167148572343805,\n",
       " 20.073816181387805,\n",
       " -50.28711055257018]"
      ]
     },
     "execution_count": 19,
     "metadata": {},
     "output_type": "execute_result"
    }
   ],
   "source": [
    "latitudes"
   ]
  },
  {
   "cell_type": "code",
   "execution_count": 22,
   "id": "451641cc",
   "metadata": {},
   "outputs": [
    {
     "data": {
      "text/plain": [
       "88"
      ]
     },
     "execution_count": 22,
     "metadata": {},
     "output_type": "execute_result"
    }
   ],
   "source": [
    "random.randrange(-90,90,1)"
   ]
  },
  {
   "cell_type": "code",
   "execution_count": 24,
   "id": "b89a3131",
   "metadata": {},
   "outputs": [
    {
     "data": {
      "text/plain": [
       "18"
      ]
     },
     "execution_count": 24,
     "metadata": {},
     "output_type": "execute_result"
    }
   ],
   "source": [
    "random.randrange(-90,90,3)"
   ]
  },
  {
   "cell_type": "code",
   "execution_count": 25,
   "id": "c04f0133",
   "metadata": {},
   "outputs": [
    {
     "data": {
      "text/plain": [
       "-12.613029657035185"
      ]
     },
     "execution_count": 25,
     "metadata": {},
     "output_type": "execute_result"
    }
   ],
   "source": [
    "random.uniform(-90,90)"
   ]
  },
  {
   "cell_type": "code",
   "execution_count": 26,
   "id": "b7b8f131",
   "metadata": {},
   "outputs": [],
   "source": [
    "import numpy as np"
   ]
  },
  {
   "cell_type": "code",
   "execution_count": 27,
   "id": "7a8de6ca",
   "metadata": {},
   "outputs": [
    {
     "data": {
      "text/plain": [
       "2.061007497711543"
      ]
     },
     "execution_count": 27,
     "metadata": {},
     "output_type": "execute_result"
    }
   ],
   "source": [
    "np.random.uniform(-90.000, 90.000)"
   ]
  },
  {
   "cell_type": "code",
   "execution_count": 28,
   "id": "f9bfa241",
   "metadata": {},
   "outputs": [
    {
     "data": {
      "text/plain": [
       "array([-68.25883723, -20.60187928,  45.49670955, -28.1082713 ,\n",
       "       -41.32644345, -24.79097289, -86.85118612,  75.78503391,\n",
       "       -57.45245059, -83.40314579, -44.0864525 ,  -2.95592476,\n",
       "       -73.95383078,  46.19121554,   4.7832384 , -39.06116519,\n",
       "       -46.96576697,  30.41587302, -73.95479901,  24.09022734,\n",
       "       -84.46783629,  -5.50947061,  78.58976758,  28.25918114,\n",
       "       -65.27885709,  17.40539829, -25.39278531,  -0.35323282,\n",
       "       -54.40252259,  60.33823181,  34.82515752,  26.18263868,\n",
       "        44.96404962, -18.39409033,  32.14108445,  55.49200473,\n",
       "       -67.7565584 ,   7.26804208,  47.85914018, -53.02245519,\n",
       "       -22.09504139,  33.40494107, -62.91675333,  -5.36882406,\n",
       "       -58.28146451, -74.4246979 ,  76.92029926, -67.31644797,\n",
       "        77.68160395,  36.51108721])"
      ]
     },
     "execution_count": 28,
     "metadata": {},
     "output_type": "execute_result"
    }
   ],
   "source": [
    "np.random.uniform(-90,90,50)"
   ]
  },
  {
   "cell_type": "code",
   "execution_count": 29,
   "id": "999bce3b",
   "metadata": {},
   "outputs": [],
   "source": [
    "import timeit"
   ]
  },
  {
   "cell_type": "code",
   "execution_count": 31,
   "id": "a7cf7a4f",
   "metadata": {},
   "outputs": [
    {
     "name": "stdout",
     "output_type": "stream",
     "text": [
      "11.3 µs ± 18.3 ns per loop (mean ± std. dev. of 7 runs, 100000 loops each)\n"
     ]
    }
   ],
   "source": [
    "%timeit np.random.uniform(-90,90,1500)"
   ]
  },
  {
   "cell_type": "code",
   "execution_count": 33,
   "id": "c6c67160",
   "metadata": {},
   "outputs": [
    {
     "name": "stdout",
     "output_type": "stream",
     "text": [
      "1.42 ms ± 7.46 µs per loop (mean ± std. dev. of 7 runs, 1000 loops each)\n"
     ]
    }
   ],
   "source": [
    "def latitudes(size):\n",
    "    latitudes = []\n",
    "    x = 0\n",
    "    while x < (size):\n",
    "        random_lat = random.randint(-90, 90) + random.random()\n",
    "        latitudes.append(random_lat)\n",
    "        x += 1\n",
    "    return latitudes\n",
    "# Call the function with 1500.\n",
    "%timeit latitudes(1500)"
   ]
  },
  {
   "cell_type": "code",
   "execution_count": null,
   "id": "d99ebac5",
   "metadata": {},
   "outputs": [],
   "source": []
  }
 ],
 "metadata": {
  "kernelspec": {
   "display_name": "PythonData",
   "language": "python",
   "name": "pythondata"
  },
  "language_info": {
   "codemirror_mode": {
    "name": "ipython",
    "version": 3
   },
   "file_extension": ".py",
   "mimetype": "text/x-python",
   "name": "python",
   "nbconvert_exporter": "python",
   "pygments_lexer": "ipython3",
   "version": "3.7.11"
  }
 },
 "nbformat": 4,
 "nbformat_minor": 5
}
